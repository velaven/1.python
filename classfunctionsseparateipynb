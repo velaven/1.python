{
 "cells": [
  {
   "cell_type": "code",
   "execution_count": 1,
   "id": "36a58037-16f7-46ef-8721-c76d94061489",
   "metadata": {
    "scrolled": true
   },
   "outputs": [],
   "source": [
    "class SubfieldsINAI:\n",
    "    def Subfields():\n",
    "        lists = [\"Machine Learning\", \"Neural Networks\", \"Vision\", \"Robotics\", \"speech Processing\", \"Natural Language Processing\",]\n",
    "        print(\"Sub-fields in AI are:\")\n",
    "        \n",
    "        for i in lists:\n",
    "                 \n",
    "            print(i)\n",
    "              \n",
    "        "
   ]
  },
  {
   "cell_type": "code",
   "execution_count": 2,
   "id": "19592afb-a9ca-4b46-a117-f89c4726a4db",
   "metadata": {},
   "outputs": [
    {
     "name": "stdout",
     "output_type": "stream",
     "text": [
      "Sub-fields in AI are:\n",
      "Machine Learning\n",
      "Neural Networks\n",
      "Vision\n",
      "Robotics\n",
      "speech Processing\n",
      "Natural Language Processing\n"
     ]
    }
   ],
   "source": [
    "SubfieldsINAI.Subfields()"
   ]
  },
  {
   "cell_type": "code",
   "execution_count": 3,
   "id": "0d927de5-f4e1-4018-a747-30c735fa0047",
   "metadata": {},
   "outputs": [],
   "source": [
    "class OddEven:\n",
    "    def OddEven():\n",
    "        num=int(input(\"Enter a number:\"))\n",
    "        if(num%2==0):\n",
    "            print(\"The given number is Even\")\n",
    "            message = \"Even Number\"\n",
    "        else:\n",
    "            print(\"The given number is Odd\")\n",
    "            message = \"Odd number\"\n",
    "            \n",
    "            return\n",
    "            \n",
    "            "
   ]
  },
  {
   "cell_type": "code",
   "execution_count": 4,
   "id": "ca0dbbd1-9860-484c-90bd-8d262051772a",
   "metadata": {},
   "outputs": [
    {
     "name": "stdin",
     "output_type": "stream",
     "text": [
      "Enter a number: 52452\n"
     ]
    },
    {
     "name": "stdout",
     "output_type": "stream",
     "text": [
      "The given number is Even\n"
     ]
    }
   ],
   "source": [
    "OddEven.OddEven()"
   ]
  },
  {
   "cell_type": "code",
   "execution_count": 5,
   "id": "e2512796-2237-4ad3-939b-20d11e69cf92",
   "metadata": {},
   "outputs": [],
   "source": [
    "class EligibilityForMarriage:\n",
    "    def Eligible():\n",
    "        gender=input(\"Your Gender:\")\n",
    "        age=int(input(\"Your Age:\"))\n",
    "        if(age>=21)and(gender=='Male'):\n",
    "            print(\"Eligible\")\n",
    "        elif(age>=18)and(gender=='Female'):\n",
    "            print(\"Eligible\")\n",
    "        else:\n",
    "            print(\"Not Eligible\")\n",
    "            return"
   ]
  },
  {
   "cell_type": "code",
   "execution_count": 6,
   "id": "aeab08dc-1ef1-4618-a357-4e04bcef8d69",
   "metadata": {},
   "outputs": [
    {
     "name": "stdin",
     "output_type": "stream",
     "text": [
      "Your Gender: Male\n",
      "Your Age: 20\n"
     ]
    },
    {
     "name": "stdout",
     "output_type": "stream",
     "text": [
      "Not Eligible\n"
     ]
    }
   ],
   "source": [
    "EligibilityForMarriage.Eligible()"
   ]
  },
  {
   "cell_type": "code",
   "execution_count": 7,
   "id": "626566a8-44aa-454c-9b95-1a9e5760f45e",
   "metadata": {},
   "outputs": [],
   "source": [
    "class FindPercent:\n",
    "    def Percentage():\n",
    "        subject1=int(input(\"subject1=\"))\n",
    "        subject2=int(input(\"subject2=\"))\n",
    "        subject3=int(input(\"subject3=\"))\n",
    "        subject4=int(input(\"subject4=\"))\n",
    "        subject5=int(input(\"subject5=\"))\n",
    "        Total=subject1+subject2+subject3+subject4+subject5\n",
    "        print(Total)\n",
    "        Percentage=Total/5\n",
    "        print(Percentage)\n",
    "        msg=Percentage\n",
    "        return\n",
    "        "
   ]
  },
  {
   "cell_type": "code",
   "execution_count": 8,
   "id": "60a23160-21a6-45ca-b6f9-3e1d452554a0",
   "metadata": {},
   "outputs": [
    {
     "name": "stdin",
     "output_type": "stream",
     "text": [
      "subject1= 98\n",
      "subject2= 87\n",
      "subject3= 95\n",
      "subject4= 95\n",
      "subject5= 93\n"
     ]
    },
    {
     "name": "stdout",
     "output_type": "stream",
     "text": [
      "468\n",
      "93.6\n"
     ]
    }
   ],
   "source": [
    "FindPercent.Percentage()"
   ]
  },
  {
   "cell_type": "code",
   "execution_count": 9,
   "id": "68796700-db10-4145-948e-1aaef4724220",
   "metadata": {},
   "outputs": [],
   "source": [
    "class triangle:\n",
    "    def triangle():\n",
    "        h=int(input(\"Height:\"))\n",
    "        b=int(input(\"Breadth:\"))\n",
    "        Area=0.5 * b * h\n",
    "        print(\"Area:\",Area)\n",
    "        h1=int(input(\"Height1:\"))\n",
    "        h2=int(input(\"Height2:\"))\n",
    "        b=int(input(\"Breadth:\"))\n",
    "        perimeter=(h1+h2+b)\n",
    "        print(\"perimeter:\",perimeter)\n",
    "        return"
   ]
  },
  {
   "cell_type": "code",
   "execution_count": 10,
   "id": "c9583ec4-d812-4c70-b15a-db1bfb70fe99",
   "metadata": {},
   "outputs": [
    {
     "name": "stdin",
     "output_type": "stream",
     "text": [
      "Height: 32\n",
      "Breadth: 34\n"
     ]
    },
    {
     "name": "stdout",
     "output_type": "stream",
     "text": [
      "Area: 544.0\n"
     ]
    },
    {
     "name": "stdin",
     "output_type": "stream",
     "text": [
      "Height1: 2\n",
      "Height2: 4\n",
      "Breadth: 4\n"
     ]
    },
    {
     "name": "stdout",
     "output_type": "stream",
     "text": [
      "perimeter: 10\n"
     ]
    }
   ],
   "source": [
    "triangle.triangle()"
   ]
  }
 ],
 "metadata": {
  "kernelspec": {
   "display_name": "Python 3 (ipykernel)",
   "language": "python",
   "name": "python3"
  },
  "language_info": {
   "codemirror_mode": {
    "name": "ipython",
    "version": 3
   },
   "file_extension": ".py",
   "mimetype": "text/x-python",
   "name": "python",
   "nbconvert_exporter": "python",
   "pygments_lexer": "ipython3",
   "version": "3.11.7"
  }
 },
 "nbformat": 4,
 "nbformat_minor": 5
}
