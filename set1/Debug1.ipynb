{
 "cells": [
  {
   "cell_type": "code",
   "execution_count": 1,
   "id": "269872b9-f998-4a6b-ad56-f158ee68b49a",
   "metadata": {},
   "outputs": [
    {
     "name": "stdout",
     "output_type": "stream",
     "text": [
      "0\n",
      "1\n",
      "2\n",
      "3\n",
      "4\n"
     ]
    }
   ],
   "source": [
    "for i in range(5):\n",
    "    print(i)"
   ]
  },
  {
   "cell_type": "code",
   "execution_count": 2,
   "id": "02434bb3-1aa5-4fb2-a0cb-6244de09c5b8",
   "metadata": {},
   "outputs": [
    {
     "name": "stdout",
     "output_type": "stream",
     "text": [
      "15\n"
     ]
    }
   ],
   "source": [
    "a = 10\n",
    "b = 5\n",
    "print(a + b)"
   ]
  },
  {
   "cell_type": "code",
   "execution_count": 3,
   "id": "7662da58-e215-44d2-afa8-b52dfde361f8",
   "metadata": {},
   "outputs": [],
   "source": [
    "def add_numbers(a, b):\n",
    "    #syntax error :\n",
    "    \n",
    "    return a + b"
   ]
  },
  {
   "cell_type": "code",
   "execution_count": 4,
   "id": "6850c208-e594-4d98-b515-62676d759337",
   "metadata": {},
   "outputs": [
    {
     "name": "stdout",
     "output_type": "stream",
     "text": [
      "[1, 2, 3, 4]\n"
     ]
    }
   ],
   "source": [
    "numbers = [1, 2, 3, 4]  #index error\n",
    "print(numbers)"
   ]
  },
  {
   "cell_type": "code",
   "execution_count": 5,
   "id": "e48e166c-9a8a-4d89-aee3-518d4875c579",
   "metadata": {},
   "outputs": [
    {
     "name": "stdout",
     "output_type": "stream",
     "text": [
      "Hello,World!\n"
     ]
    }
   ],
   "source": [
    "print (\"Hello,World!\")   #missing parenthesis (...)"
   ]
  },
  {
   "cell_type": "code",
   "execution_count": 6,
   "id": "e5d7792f-4e7b-475b-a36a-801689e722e3",
   "metadata": {},
   "outputs": [
    {
     "name": "stdout",
     "output_type": "stream",
     "text": [
      "Error: Division by zero is not allowed.\n"
     ]
    }
   ],
   "source": [
    "#x = 5 / 0      #zero division error\n",
    "x=5\n",
    "y=0\n",
    "if y !=0:\n",
    "    \n",
    "    result = x/y\n",
    "    print(result)\n",
    "else:\n",
    "    print(\"Error: Division by zero is not allowed.\")\n"
   ]
  },
  {
   "cell_type": "code",
   "execution_count": 7,
   "id": "2fe5b6fd-c856-4ac7-beee-11ca5c2961af",
   "metadata": {},
   "outputs": [
    {
     "name": "stdout",
     "output_type": "stream",
     "text": [
      "Name:Alice, Age:25\n"
     ]
    }
   ],
   "source": [
    "name = \"Alice\"\n",
    "\n",
    "age = 25\n",
    "print(\"Name:\" + name + \", Age:\" + str(age))"
   ]
  },
  {
   "cell_type": "code",
   "execution_count": 8,
   "id": "8edcec94-6a4a-47d6-9a11-e458ee257b7e",
   "metadata": {},
   "outputs": [
    {
     "name": "stdout",
     "output_type": "stream",
     "text": [
      "10\n",
      "9\n",
      "8\n",
      "7\n",
      "6\n",
      "5\n",
      "4\n",
      "3\n",
      "2\n",
      "1\n"
     ]
    }
   ],
   "source": [
    "for i in range(10, 0, -1):   #print numbers from 10 to 1 in reverse order\n",
    "    print(i)"
   ]
  },
  {
   "cell_type": "code",
   "execution_count": 9,
   "id": "d480be5e-c129-4221-9a07-f46ec253190f",
   "metadata": {},
   "outputs": [],
   "source": [
    "x = 10         #error ==\n",
    "if x == 5:\n",
    "    print(\"x is 5\")"
   ]
  },
  {
   "cell_type": "code",
   "execution_count": 14,
   "id": "4bf59185-9510-4891-bea9-9e22c4850a1d",
   "metadata": {},
   "outputs": [],
   "source": [
    "def greet(name): \n",
    "    #name is missing , : is missing\n",
    "    \n",
    "    print(\"Hello, \" + name)\n",
    "    name = John\n",
    "    greet(\"John\")"
   ]
  },
  {
   "cell_type": "code",
   "execution_count": null,
   "id": "20c8aba5-6077-4bc8-ba9f-e390a1e86963",
   "metadata": {},
   "outputs": [],
   "source": []
  },
  {
   "cell_type": "code",
   "execution_count": null,
   "id": "06a4b60f-6f1d-475d-92f9-590542262b75",
   "metadata": {},
   "outputs": [],
   "source": []
  },
  {
   "cell_type": "code",
   "execution_count": null,
   "id": "6c8277f8-091d-40a8-8334-009d7098fbce",
   "metadata": {},
   "outputs": [],
   "source": []
  }
 ],
 "metadata": {
  "kernelspec": {
   "display_name": "Python 3 (ipykernel)",
   "language": "python",
   "name": "python3"
  },
  "language_info": {
   "codemirror_mode": {
    "name": "ipython",
    "version": 3
   },
   "file_extension": ".py",
   "mimetype": "text/x-python",
   "name": "python",
   "nbconvert_exporter": "python",
   "pygments_lexer": "ipython3",
   "version": "3.11.5"
  }
 },
 "nbformat": 4,
 "nbformat_minor": 5
}
