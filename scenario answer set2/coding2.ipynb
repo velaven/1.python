{
 "cells": [
  {
   "cell_type": "code",
   "execution_count": 1,
   "id": "eb12ae5e-648c-4d73-b258-870af2db791a",
   "metadata": {},
   "outputs": [
    {
     "name": "stdout",
     "output_type": "stream",
     "text": [
      "olleh\n"
     ]
    }
   ],
   "source": [
    "input_str = \"hello\"\n",
    "reversed_str = input_str[::-1]\n",
    "print(reversed_str)"
   ]
  },
  {
   "cell_type": "code",
   "execution_count": 2,
   "id": "231753a3-7dcd-4e8a-8de4-cc0a60c4b77e",
   "metadata": {},
   "outputs": [
    {
     "name": "stdout",
     "output_type": "stream",
     "text": [
      "[1, 2, 3, 5, 8, 13, 21, 34, 55, 89]\n"
     ]
    }
   ],
   "source": [
    "def fibonacci(n):\n",
    "    fib_sequence = [1,2]\n",
    "    while len(fib_sequence) < n:\n",
    "        fib_sequence.append(fib_sequence[-1] + fib_sequence[-2])\n",
    "    return fib_sequence\n",
    "print(fibonacci(10))"
   ]
  },
  {
   "cell_type": "code",
   "execution_count": 5,
   "id": "a3821810-2d49-456d-ae50-bdd00b01ba45",
   "metadata": {},
   "outputs": [
    {
     "name": "stdout",
     "output_type": "stream",
     "text": [
      "True\n"
     ]
    }
   ],
   "source": [
    "#check givwn strin palindrome\n",
    "def is_palindrome(s):\n",
    "    return s == s[::-1]\n",
    "print(is_palindrome(\"madam\"))"
   ]
  },
  {
   "cell_type": "code",
   "execution_count": 14,
   "id": "06266d90-84f5-4c8d-b390-6b2c25d60ec9",
   "metadata": {},
   "outputs": [
    {
     "name": "stdout",
     "output_type": "stream",
     "text": [
      "Number of vowels: 5\n"
     ]
    }
   ],
   "source": [
    "def count_vowels(input_string):\n",
    "    \n",
    "        \n",
    "    vowels = set('aeiou')\n",
    "    vowel_count = 0\n",
    "    \n",
    "    for char in input_string.lower(): \n",
    "        if char in vowels:\n",
    "            \n",
    "            \n",
    "            vowel_count += 1\n",
    "            \n",
    "            \n",
    "    return vowel_count\n",
    "input_str = \"education\"\n",
    "print(\"Number of vowels:\", count_vowels(input_str))\n",
    "    "
   ]
  },
  {
   "cell_type": "code",
   "execution_count": 16,
   "id": "8f36be53-682d-4686-ac5e-a5a0ecf363a6",
   "metadata": {},
   "outputs": [
    {
     "name": "stdout",
     "output_type": "stream",
     "text": [
      "[1, 2, 3, 4, 5]\n"
     ]
    }
   ],
   "source": [
    "def remove_duplicates(input_list):\n",
    "    return list(set(input_list))\n",
    "input_list = [1, 2, 2, 3, 4, 4, 5]\n",
    "output_list = remove_duplicates(input_list)\n",
    "print(output_list)\n"
   ]
  },
  {
   "cell_type": "code",
   "execution_count": null,
   "id": "16a739c5-2a54-436b-9506-f652fe748b42",
   "metadata": {},
   "outputs": [],
   "source": []
  },
  {
   "cell_type": "code",
   "execution_count": null,
   "id": "892786c1-4a1d-47fe-b733-cd8848b7f4f4",
   "metadata": {},
   "outputs": [],
   "source": []
  },
  {
   "cell_type": "code",
   "execution_count": null,
   "id": "90b3fb40-33b1-49c4-b0d3-7022283f7c75",
   "metadata": {},
   "outputs": [],
   "source": []
  }
 ],
 "metadata": {
  "kernelspec": {
   "display_name": "Python 3 (ipykernel)",
   "language": "python",
   "name": "python3"
  },
  "language_info": {
   "codemirror_mode": {
    "name": "ipython",
    "version": 3
   },
   "file_extension": ".py",
   "mimetype": "text/x-python",
   "name": "python",
   "nbconvert_exporter": "python",
   "pygments_lexer": "ipython3",
   "version": "3.11.5"
  }
 },
 "nbformat": 4,
 "nbformat_minor": 5
}
