{
 "cells": [
  {
   "cell_type": "code",
   "execution_count": 27,
   "id": "52eebf73-78ba-4e78-8d70-a34734daf664",
   "metadata": {},
   "outputs": [
    {
     "name": "stdout",
     "output_type": "stream",
     "text": [
      "Welcome to Assignment-1\n"
     ]
    }
   ],
   "source": [
    "                                                        print(\"Welcome to Assignment-1\")"
   ]
  },
  {
   "cell_type": "code",
   "execution_count": 28,
   "id": "c4cb081a-e572-4381-a976-12a0ec34575d",
   "metadata": {},
   "outputs": [
    {
     "name": "stdout",
     "output_type": "stream",
     "text": [
      "num1= 10\n",
      "num2= 30\n",
      "Add= 40\n"
     ]
    }
   ],
   "source": [
    "num1=10\n",
    "num2=30\n",
    "Add=num1+num2\n",
    "print(\"num1=\",10)\n",
    "print(\"num2=\",30)\n",
    "print(\"Add=\",10+30)"
   ]
  },
  {
   "cell_type": "code",
   "execution_count": 29,
   "id": "b27f98a1-1fd2-4171-bea2-08efb6613916",
   "metadata": {},
   "outputs": [],
   "source": [
    "#Body Mass Index\n",
    "#BMIIndex:34=veryoverweight"
   ]
  },
  {
   "cell_type": "code",
   "execution_count": 30,
   "id": "5be58d56-d168-4986-9810-70737043d15e",
   "metadata": {},
   "outputs": [
    {
     "name": "stdin",
     "output_type": "stream",
     "text": [
      "Enter the BMI index: 34\n"
     ]
    },
    {
     "name": "stdout",
     "output_type": "stream",
     "text": [
      "very overweight\n"
     ]
    }
   ],
   "source": [
    "BMIIndex=int(input(\"Enter the BMI index:\"))\n",
    "if(BMIIndex>=30):\n",
    "    print(\"very overweight\")\n",
    "    "
   ]
  },
  {
   "cell_type": "code",
   "execution_count": 31,
   "id": "ca6bb358-7ba7-4d18-a1b5-e800d61acd0e",
   "metadata": {},
   "outputs": [],
   "source": [
    "#Extra Assignments-1\n"
   ]
  },
  {
   "cell_type": "code",
   "execution_count": 32,
   "id": "3366ad08-1274-4aa2-a4b8-09bdec5726a9",
   "metadata": {},
   "outputs": [
    {
     "name": "stdout",
     "output_type": "stream",
     "text": [
      "Hope AI\n"
     ]
    }
   ],
   "source": [
    "print(\"Hope AI\")"
   ]
  },
  {
   "cell_type": "code",
   "execution_count": 33,
   "id": "3c28bdeb-b059-4fea-b893-fdf94aa1d837",
   "metadata": {},
   "outputs": [
    {
     "name": "stdin",
     "output_type": "stream",
     "text": [
      "Enter your institute: HOPE AI\n"
     ]
    }
   ],
   "source": [
    "instituteName=input(\"Enter your institute:\")"
   ]
  },
  {
   "cell_type": "code",
   "execution_count": 34,
   "id": "92b38e17-2ded-42c7-b8e7-0cd471490ca4",
   "metadata": {},
   "outputs": [
    {
     "name": "stdin",
     "output_type": "stream",
     "text": [
      "Enter your name: Raj\n",
      "Enter your age: 15\n",
      "Enter your school name: Guru school\n",
      "Enter your degree: B.E CSE\n"
     ]
    }
   ],
   "source": [
    "name=input(\"Enter your name:\")\n",
    "age=input(\"Enter your age:\")\n",
    "schoolName=input(\"Enter your school name:\")\n",
    "degree=input(\"Enter your degree:\")"
   ]
  },
  {
   "cell_type": "code",
   "execution_count": 35,
   "id": "a7305365-4a95-4c98-829f-77a321c17ab7",
   "metadata": {},
   "outputs": [
    {
     "name": "stdout",
     "output_type": "stream",
     "text": [
      "add: 77\n"
     ]
    }
   ],
   "source": [
    "a=43\n",
    "b=34\n",
    "add=a+b\n",
    "print(\"add:\",a+b)"
   ]
  },
  {
   "cell_type": "code",
   "execution_count": 36,
   "id": "7a28db4c-fa0c-4273-80d3-f52b9157b3fa",
   "metadata": {},
   "outputs": [
    {
     "name": "stdout",
     "output_type": "stream",
     "text": [
      "sub: 9\n"
     ]
    }
   ],
   "source": [
    "a=43\n",
    "b=34\n",
    "sub=a-b\n",
    "print(\"sub:\",a-b)"
   ]
  },
  {
   "cell_type": "code",
   "execution_count": 37,
   "id": "585a7d9b-8c99-4e81-95d8-7cce345f2f63",
   "metadata": {},
   "outputs": [
    {
     "name": "stdout",
     "output_type": "stream",
     "text": [
      "mul: 6111\n"
     ]
    }
   ],
   "source": [
    "a=63\n",
    "b=97\n",
    "mul=a*b\n",
    "print(\"mul:\",a*b)"
   ]
  },
  {
   "cell_type": "code",
   "execution_count": 39,
   "id": "f9020048-0291-4759-9852-e5742feb1417",
   "metadata": {},
   "outputs": [
    {
     "name": "stdout",
     "output_type": "stream",
     "text": [
      "float div: 2.4516129032258065\n"
     ]
    }
   ],
   "source": [
    "a=76\n",
    "b=31\n",
    "floatDiv=a/b\n",
    "print(\"float div:\",a/b)"
   ]
  },
  {
   "cell_type": "code",
   "execution_count": 40,
   "id": "91737510-a653-4f7d-92ae-c1e01e089660",
   "metadata": {},
   "outputs": [
    {
     "name": "stdout",
     "output_type": "stream",
     "text": [
      "Floor div: 2\n"
     ]
    }
   ],
   "source": [
    "a=76\n",
    "b=31\n",
    "floorDiv=a//b\n",
    "print(\"Floor div:\",a//b)"
   ]
  },
  {
   "cell_type": "code",
   "execution_count": 41,
   "id": "415a1fa2-4969-4048-acbf-052b5951d51b",
   "metadata": {},
   "outputs": [
    {
     "name": "stdout",
     "output_type": "stream",
     "text": [
      "Modulo: 8\n"
     ]
    }
   ],
   "source": [
    "a=70\n",
    "b=31\n",
    "Modulo=a%b\n",
    "print(\"Modulo:\",a%b)"
   ]
  },
  {
   "cell_type": "code",
   "execution_count": 43,
   "id": "0fe0e0c6-7f4a-41d1-aca7-f40ea2b986d8",
   "metadata": {},
   "outputs": [
    {
     "name": "stdout",
     "output_type": "stream",
     "text": [
      "power: 256\n"
     ]
    }
   ],
   "source": [
    "a=4\n",
    "b=4\n",
    "power=pow(a,b)\n",
    "print(\"power:\",pow(a,b))"
   ]
  },
  {
   "cell_type": "code",
   "execution_count": null,
   "id": "d24544aa-83c0-4f14-ba9b-e08bb1a287e5",
   "metadata": {},
   "outputs": [],
   "source": [
    "#Extra assignment-2"
   ]
  },
  {
   "cell_type": "code",
   "execution_count": 2,
   "id": "cf8a2113-009c-460d-ab63-2ddb53496739",
   "metadata": {},
   "outputs": [
    {
     "name": "stdout",
     "output_type": "stream",
     "text": [
      "0\n",
      "1\n",
      "2\n",
      "3\n",
      "4\n",
      "5\n",
      "6\n",
      "7\n",
      "8\n",
      "9\n",
      "10\n",
      "11\n",
      "12\n",
      "13\n",
      "14\n",
      "15\n",
      "16\n",
      "17\n",
      "18\n",
      "19\n"
     ]
    }
   ],
   "source": [
    "for num in range (0,20):\n",
    "    print(num)\n",
    "    \n",
    "                 "
   ]
  },
  {
   "cell_type": "code",
   "execution_count": 7,
   "id": "bad3957e-87ef-40b2-a459-e7d3bfaa7294",
   "metadata": {},
   "outputs": [
    {
     "name": "stdout",
     "output_type": "stream",
     "text": [
      "[10, 11, 12, 13, 14, 15, 16, 17, 18, 19]\n"
     ]
    }
   ],
   "source": [
    "my_numbers_list = list(range(10,20))\n",
    "print(my_numbers_list)\n",
    "\n",
    "\n",
    "    "
   ]
  },
  {
   "cell_type": "code",
   "execution_count": 18,
   "id": "f67852e0-a095-414c-b86b-6de77e7f39a0",
   "metadata": {},
   "outputs": [
    {
     "name": "stdout",
     "output_type": "stream",
     "text": [
      "Number of item in the list2: 7\n"
     ]
    }
   ],
   "source": [
    "#len(10,20,14,55,43,87,76)\n",
    "mylist=[10,20,14,55,43,87,76]\n",
    "length=len(mylist)\n",
    "print(\"Number of item in the list2:\",length)"
   ]
  },
  {
   "cell_type": "code",
   "execution_count": 1,
   "id": "801f2cc4-0148-498f-a2fd-0e477d93b0a5",
   "metadata": {},
   "outputs": [
    {
     "name": "stdout",
     "output_type": "stream",
     "text": [
      "your Name-kavitha\n",
      "your Age-49\n",
      "your profession-student\n"
     ]
    }
   ],
   "source": [
    "print(\"your Name-kavitha\")\n",
    "print(\"your Age-49\")\n",
    "print(\"your profession-student\")"
   ]
  },
  {
   "cell_type": "code",
   "execution_count": 5,
   "id": "dfa420e9-ce8b-4b79-9296-1f9d894b7e3d",
   "metadata": {},
   "outputs": [
    {
     "name": "stdout",
     "output_type": "stream",
     "text": [
      "A\n",
      "r\n",
      "t\n",
      "i\n",
      "f\n",
      "i\n",
      "c\n",
      "i\n",
      "a\n",
      "l\n",
      " \n",
      "I\n",
      "n\n"
     ]
    }
   ],
   "source": [
    "language='Artificial Intelligence'\n",
    "#iterate over each character in language\n",
    "for x in language:\n",
    "    print(x)\n",
    "    \n",
    "    if(x=='n'):\n",
    "        break\n"
   ]
  },
  {
   "cell_type": "code",
   "execution_count": 1,
   "id": "7dad5121-f8ae-411e-bc3b-cda2824cbc27",
   "metadata": {},
   "outputs": [
    {
     "name": "stdout",
     "output_type": "stream",
     "text": [
      "(1, 'Welcome', 5, 'Hope')\n"
     ]
    }
   ],
   "source": [
    "#mixed data type\n",
    "tuple_constructor = (1,'Welcome',5,'Hope')\n",
    "print(tuple_constructor)"
   ]
  },
  {
   "cell_type": "code",
   "execution_count": 2,
   "id": "4cb855ee-dced-46ce-9c0b-2643d6722321",
   "metadata": {},
   "outputs": [
    {
     "name": "stdout",
     "output_type": "stream",
     "text": [
      "((0, 1, 2, 3), ('python', 'HOPE'))\n"
     ]
    }
   ],
   "source": [
    "#with nested tuples\n",
    "Tuple1=(0,1,2,3)\n",
    "Tuple2=('python','HOPE')\n",
    "Tuple3=(Tuple1,Tuple2)\n",
    "print(Tuple3)"
   ]
  },
  {
   "cell_type": "code",
   "execution_count": 7,
   "id": "2e89faac-a2b8-4370-8ffd-7879df021773",
   "metadata": {},
   "outputs": [
    {
     "name": "stdout",
     "output_type": "stream",
     "text": [
      "20\n",
      "Even number\n",
      "10\n",
      "Even number\n",
      "16\n",
      "Even number\n",
      "19\n",
      "odd number\n",
      "25\n",
      "odd number\n",
      "1\n",
      "odd number\n",
      "276\n",
      "Even number\n",
      "188\n",
      "Even number\n"
     ]
    }
   ],
   "source": [
    "list=(20,10,16,19,25,1,276,188)\n",
    "for x in list:\n",
    "    print(x)\n",
    "    if(x%2==0):\n",
    "        print(\"Even number\")\n",
    "    else:\n",
    "        print(\"odd number\")\n",
    " \n",
    "    "
   ]
  },
  {
   "cell_type": "code",
   "execution_count": 8,
   "id": "0375b0d0-4dc9-4043-b3bd-0e01aee4b3fa",
   "metadata": {},
   "outputs": [
    {
     "name": "stdout",
     "output_type": "stream",
     "text": [
      "20\n",
      "Even number\n",
      "10\n",
      "Even number\n",
      "16\n",
      "Even number\n",
      "19\n",
      "25\n",
      "1\n",
      "276\n",
      "Even number\n",
      "188\n",
      "Even number\n"
     ]
    }
   ],
   "source": [
    "list=(20,10,16,19,25,1,276,188)\n",
    "for x in list:\n",
    "    print(x)\n",
    "    if(x%2==0):\n",
    "        print(\"Even number\")"
   ]
  },
  {
   "cell_type": "code",
   "execution_count": 37,
   "id": "2ab6f8b4-4b65-4c09-91a8-84975abf8c51",
   "metadata": {},
   "outputs": [
    {
     "name": "stdout",
     "output_type": "stream",
     "text": [
      "20\n",
      "20\n",
      "16\n",
      "19\n",
      "Odd number\n",
      "25\n",
      "Odd number\n",
      "1\n",
      "Odd number\n",
      "276\n",
      "188\n"
     ]
    }
   ],
   "source": [
    "list=(20,20,16,19,25,1,276,188)\n",
    "for x in list:\n",
    "    print(x)\n",
    "    if(x%2==1):\n",
    "      print(\"Odd number\")"
   ]
  },
  {
   "cell_type": "code",
   "execution_count": 38,
   "id": "106f2034-b5c7-43e0-966d-5b40ff2a2e65",
   "metadata": {},
   "outputs": [
    {
     "name": "stdin",
     "output_type": "stream",
     "text": [
      "value: 10\n"
     ]
    },
    {
     "name": "stdout",
     "output_type": "stream",
     "text": [
      "correct\n"
     ]
    }
   ],
   "source": [
    "value=input(\"value:\")\n",
    "\n",
    "i=value\n",
    "if(i==10):\n",
    "    print(\"not correct\")\n",
    "else:\n",
    "    print(\"correct\")"
   ]
  },
  {
   "cell_type": "code",
   "execution_count": 18,
   "id": "1cf50295-1bb2-4325-bd94-f685e3a8d65d",
   "metadata": {},
   "outputs": [
    {
     "name": "stdin",
     "output_type": "stream",
     "text": [
      "Enter the age: 20\n"
     ]
    },
    {
     "name": "stdout",
     "output_type": "stream",
     "text": [
      "Adult\n"
     ]
    }
   ],
   "source": [
    "age=int(input(\"Enter the age:\"))\n",
    "if (age==20):\n",
    "    print(\"Adult\")"
   ]
  },
  {
   "cell_type": "code",
   "execution_count": 39,
   "id": "a6668f1d-4bc6-4ebb-9100-55e0215a6a94",
   "metadata": {},
   "outputs": [
    {
     "name": "stdin",
     "output_type": "stream",
     "text": [
      "Enter any number: 1\n"
     ]
    },
    {
     "name": "stdout",
     "output_type": "stream",
     "text": [
      "Entered number1 is a positive number\n"
     ]
    }
   ],
   "source": [
    "number=int(input(\"Enter any number:\"))\n",
    "if(number>0):\n",
    "    print(\"Entered number{} is a positive number\".format(number))\n",
    "elif(number<0):\n",
    "    print(\"Entered number{} is a negative number\".format(number))\n",
    "else:\n",
    "    print(\"number is zero\")\n",
    "           "
   ]
  },
  {
   "cell_type": "code",
   "execution_count": 42,
   "id": "f2e75704-06af-49e9-aa92-594deda4c1b3",
   "metadata": {},
   "outputs": [
    {
     "name": "stdin",
     "output_type": "stream",
     "text": [
      "Enter the number: 22\n"
     ]
    },
    {
     "name": "stdout",
     "output_type": "stream",
     "text": [
      "Number is not divisible by 5\n"
     ]
    }
   ],
   "source": [
    "a=int(input(\"Enter the number:\"))\n",
    "if(a%5==0):\n",
    "    print(\"Number is divisible by 5\")\n",
    "else:\n",
    "    print(\"Number is not divisible by 5\")\n",
    "\n",
    "      \n",
    "      \n",
    "      "
   ]
  },
  {
   "cell_type": "code",
   "execution_count": 11,
   "id": "7ee5b2be-7c0b-474e-ad28-49bbc7631711",
   "metadata": {},
   "outputs": [
    {
     "ename": "IndentationError",
     "evalue": "unexpected indent (1693219474.py, line 4)",
     "output_type": "error",
     "traceback": [
      "\u001b[1;36m  Cell \u001b[1;32mIn[11], line 4\u001b[1;36m\u001b[0m\n\u001b[1;33m    if(len(password)<8):\u001b[0m\n\u001b[1;37m    ^\u001b[0m\n\u001b[1;31mIndentationError\u001b[0m\u001b[1;31m:\u001b[0m unexpected indent\n"
     ]
    }
   ],
   "source": [
    "import re\n",
    "#password must be at least 8 charactors long\n",
    "password=input(\"Enter your password:\")\n",
    "    if(len(password)<8):\n",
    "        print(\"password must be at least 8 characters long.\") \n",
    "    elif not re.search(\"[A-Z]\",password):\n",
    "        print(\"password must contain at least one uppercase letter.\")\n",
    "    elif not re.search(\"[0-9]\",password):\n",
    "        print(\"password must contain at least one number.\")\n",
    "    else:\n",
    "        print(\"your password is correct\")\n",
    "    \n",
    "        \n",
    "    \n",
    "        \n",
    "     \n",
    "        \n",
    "\n",
    "        \n",
    "\n",
    "        \n",
    "\n",
    "\n",
    "\n",
    "\n",
    "          "
   ]
  },
  {
   "cell_type": "code",
   "execution_count": 17,
   "id": "837ff3fd-2813-439a-bd56-3f6099bab901",
   "metadata": {},
   "outputs": [
    {
     "name": "stdin",
     "output_type": "stream",
     "text": [
      "Enter the password: HOPE@123\n"
     ]
    },
    {
     "name": "stdout",
     "output_type": "stream",
     "text": [
      "your password is correct\n"
     ]
    }
   ],
   "source": [
    "\n",
    "s=input(\"Enter the password:\")\n",
    "l, u, p, d = 0, 0, 0, 0\n",
    "#s = \"HoPE@123\"\n",
    "\n",
    "capitalalphabets= \"ABCDEFGHIJKLMNOPQRSTUVWXYZ\"\n",
    "smallalphabets= \"abcdefghijklmnopqrstuvwxyz\"\n",
    "specialchar = \"$@_\"\n",
    "digits = \"0123456789\"\n",
    "if(len(s) >= 8):\n",
    "    for i in s:\n",
    "        #counting lowercase alphabets\n",
    "      #  if (i in smallalphabets):\n",
    "       #     l+=1\n",
    "         #counting uppercase alphabets\n",
    "        if(i in capitalalphabets):\n",
    "            u+=1\n",
    "        # counting digits\n",
    "        if (i in digits):\n",
    "            d+=1\n",
    "        #counting the mentioned special characters\n",
    "        if(i in specialchar):\n",
    "            p+=1\n",
    "#if(l>=1 and u>=1 and p>=1 and d>=1 and l+p+u+d==len(s)):\n",
    "if(u>=1 and p>=1 and d>=1 and p+u+d==len(s)):\n",
    "        \n",
    "    print(\"your password is correct\")\n",
    "else:\n",
    "    print(\"your password is not correct\")"
   ]
  },
  {
   "cell_type": "code",
   "execution_count": null,
   "id": "5cefc156-4f7e-47ab-b1fe-7ebc533388b9",
   "metadata": {},
   "outputs": [],
   "source": [
    "\n"
   ]
  }
 ],
 "metadata": {
  "kernelspec": {
   "display_name": "Python 3 (ipykernel)",
   "language": "python",
   "name": "python3"
  },
  "language_info": {
   "codemirror_mode": {
    "name": "ipython",
    "version": 3
   },
   "file_extension": ".py",
   "mimetype": "text/x-python",
   "name": "python",
   "nbconvert_exporter": "python",
   "pygments_lexer": "ipython3",
   "version": "3.11.7"
  }
 },
 "nbformat": 4,
 "nbformat_minor": 5
}
