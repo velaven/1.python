{
 "cells": [
  {
   "cell_type": "code",
   "execution_count": null,
   "id": "77a5408f-7131-4e5f-a743-8cfb52f1b8e7",
   "metadata": {},
   "outputs": [],
   "source": [
    "#create a class and function, and list out the items in the list\n"
   ]
  },
  {
   "cell_type": "code",
   "execution_count": 27,
   "id": "b0d85e8d-1bf3-498f-8e4c-47bfc9b5672c",
   "metadata": {},
   "outputs": [
    {
     "name": "stdout",
     "output_type": "stream",
     "text": [
      "Sub-fields in AI are:\n",
      "Machine Learning\n",
      "Neural Networks\n",
      "Vision\n",
      "Robotics\n",
      "Speech Processing\n",
      "Natural Language processing\n"
     ]
    }
   ],
   "source": [
    "lists=[\"Machine Learning\",\"Neural Networks\",\"Vision\",\"Robotics\",\"Speech Processing\",\"Natural Language processing\"]\n",
    "print(\"Sub-fields in AI are:\") \n",
    "class SubfieldsInAI:\n",
    "    def Subfields():\n",
    "        for i in lists:\n",
    "            print(i)\n",
    "            \n",
    "SubfieldsInAI.Subfields()          "
   ]
  },
  {
   "cell_type": "code",
   "execution_count": null,
   "id": "134dd8c9-6513-4bc4-a2dc-bda4df520e97",
   "metadata": {},
   "outputs": [],
   "source": [
    "#create a function that checks whether the given number is odd or Even "
   ]
  },
  {
   "cell_type": "code",
   "execution_count": 12,
   "id": "7c313e90-4de9-4f60-9c96-858f58ea677b",
   "metadata": {},
   "outputs": [
    {
     "name": "stdin",
     "output_type": "stream",
     "text": [
      "Enter the number: 52452\n"
     ]
    },
    {
     "name": "stdout",
     "output_type": "stream",
     "text": [
      "Even number\n"
     ]
    }
   ],
   "source": [
    "num=int(input(\"Enter the number:\"))\n",
    "def OddorEven():\n",
    "    if(num%2==0):\n",
    "        print(\"Even number\")\n",
    "    else:\n",
    "        print(\"Odd number\")\n",
    "\n",
    "\n",
    "OddorEven()"
   ]
  },
  {
   "cell_type": "code",
   "execution_count": 13,
   "id": "c351b5f4-f7ee-4f8c-89d2-0f93db5b6d33",
   "metadata": {},
   "outputs": [
    {
     "name": "stdin",
     "output_type": "stream",
     "text": [
      "Enter the number: 52452\n"
     ]
    },
    {
     "name": "stdout",
     "output_type": "stream",
     "text": [
      "52452 is Even number\n"
     ]
    }
   ],
   "source": [
    "num=int(input(\"Enter the number:\"))\n",
    "def OddorEven():\n",
    "    if(52452%2==0):\n",
    "        print(\"52452 is Even number\")\n",
    "    else:\n",
    "        print(\"Odd number\")\n",
    "\n",
    "OddorEven()"
   ]
  },
  {
   "cell_type": "code",
   "execution_count": null,
   "id": "1864ba49-237b-4b60-9ff2-9dd1cd352b67",
   "metadata": {},
   "outputs": [],
   "source": [
    "#create a function that tells elegibility of marriage for male and female according to their age limit like 21 for male and 18 for female"
   ]
  },
  {
   "cell_type": "code",
   "execution_count": 5,
   "id": "d5c0a6d3-ad83-4c43-8f67-b3096c7f5602",
   "metadata": {},
   "outputs": [
    {
     "name": "stdin",
     "output_type": "stream",
     "text": [
      "Your Gender: Male\n",
      "Your Age: 20\n"
     ]
    },
    {
     "name": "stdout",
     "output_type": "stream",
     "text": [
      "NOT ELIGIBLE\n"
     ]
    }
   ],
   "source": [
    "gender=input(\"Your Gender:\")\n",
    "age=int(input(\"Your Age:\"))\n",
    "def Eligible():\n",
    "    if((age>=21)and(gender==\"Male\")):\n",
    "        print(\"ELIGIBLE\")\n",
    "    if((age>=18)and(gender==\"Female\")):\n",
    "        print(\"ELIGIBLE\")\n",
    "    else:\n",
    "        print(\"NOT ELIGIBLE\")\n",
    "\n",
    "Eligible()\n",
    "\n",
    "\n",
    "        "
   ]
  },
  {
   "cell_type": "code",
   "execution_count": null,
   "id": "bebee941-6461-4933-a102-b5816badde10",
   "metadata": {},
   "outputs": [],
   "source": [
    "#calculate the percentage of your 10th mark"
   ]
  },
  {
   "cell_type": "code",
   "execution_count": 18,
   "id": "93ec3c7e-8120-4c97-b827-245bef192e30",
   "metadata": {},
   "outputs": [
    {
     "name": "stdin",
     "output_type": "stream",
     "text": [
      "subject1= 98\n",
      "subject2= 87\n",
      "subject3= 95\n",
      "subject4= 95\n",
      "subject5= 93\n"
     ]
    },
    {
     "name": "stdout",
     "output_type": "stream",
     "text": [
      "468\n",
      "93.60000000000001\n"
     ]
    }
   ],
   "source": [
    "subject1=float(input(\"subject1=\"))\n",
    "subject2=float(input(\"subject2=\"))\n",
    "subject3=float(input(\"subject3=\"))\n",
    "subject4=float(input(\"subject4=\"))\n",
    "subject5=float(input(\"subject5=\"))\n",
    "def addition(sub1,sub2,sub3,sub4,sub5):\n",
    "    addition=sub1+sub2+sub3+sub4+sub5\n",
    "    print(addition)\n",
    "    return addition\n",
    "    \n",
    "\n",
    "\n",
    "\n",
    "addition(98,87,95,95,93)\n",
    "\n",
    "    \n",
    "def CalcPercentage(obtained,total):\n",
    "    result=468/500*100\n",
    "    print(result)\n",
    "    \n",
    "CalcPercentage(468,500)"
   ]
  },
  {
   "cell_type": "code",
   "execution_count": null,
   "id": "feb21972-8301-42d4-a475-d04ac39d09ff",
   "metadata": {},
   "outputs": [],
   "source": [
    "#print area and perimeter of triangle using class and functions"
   ]
  },
  {
   "cell_type": "code",
   "execution_count": 36,
   "id": "2923d103-4211-4561-9329-90452b872e83",
   "metadata": {},
   "outputs": [
    {
     "name": "stdin",
     "output_type": "stream",
     "text": [
      "Height: 32\n",
      "Breadth: 34\n"
     ]
    },
    {
     "name": "stdout",
     "output_type": "stream",
     "text": [
      "Area of Triangle = 544.00\n"
     ]
    }
   ],
   "source": [
    "height=int(input(\"Height:\"))\n",
    "breadth=int(input(\"Breadth:\"))\n",
    "def areaTriangle(b, h):\n",
    "    return 0.5 * b * h\n",
    "\n",
    "b = 34\n",
    "h = 32\n",
    "print( 'Area of Triangle = {:.2f}' .format(areaTriangle(b,  h)))"
   ]
  },
  {
   "cell_type": "code",
   "execution_count": 35,
   "id": "2d38fb54-9a39-471e-b4b3-b9c9d55899cc",
   "metadata": {},
   "outputs": [
    {
     "name": "stdin",
     "output_type": "stream",
     "text": [
      "Height 1: 2\n",
      "Height 2: 4\n",
      "Breadth: 4\n"
     ]
    },
    {
     "name": "stdout",
     "output_type": "stream",
     "text": [
      "perimeter of Triangle = 10.000\n"
     ]
    }
   ],
   "source": [
    "height1=int(input(\"Height 1:\"))\n",
    "height2=int(input(\"Height 2:\"))\n",
    "breadth=int(input(\"Breadth:\"))\n",
    "def perimeterofTriangle(h1, h2 ,b):\n",
    "    return h1 + h2 + b\n",
    "\n",
    "h1 = 2\n",
    "h2 = 4\n",
    "b = 4\n",
    "print( 'perimeter of Triangle = {:.3f}' .format(perimeterofTriangle(h1, h2, b)))\n"
   ]
  },
  {
   "cell_type": "code",
   "execution_count": null,
   "id": "cd7adcf0-5fbb-4579-8e27-03bccada0a25",
   "metadata": {},
   "outputs": [],
   "source": []
  }
 ],
 "metadata": {
  "kernelspec": {
   "display_name": "Python 3 (ipykernel)",
   "language": "python",
   "name": "python3"
  },
  "language_info": {
   "codemirror_mode": {
    "name": "ipython",
    "version": 3
   },
   "file_extension": ".py",
   "mimetype": "text/x-python",
   "name": "python",
   "nbconvert_exporter": "python",
   "pygments_lexer": "ipython3",
   "version": "3.11.7"
  }
 },
 "nbformat": 4,
 "nbformat_minor": 5
}
